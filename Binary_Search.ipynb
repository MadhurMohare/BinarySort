{
  "nbformat": 4,
  "nbformat_minor": 0,
  "metadata": {
    "colab": {
      "provenance": [],
      "authorship_tag": "ABX9TyPupnGfqHRD7wAjcq1glop0",
      "include_colab_link": true
    },
    "kernelspec": {
      "name": "python3",
      "display_name": "Python 3"
    },
    "language_info": {
      "name": "python"
    }
  },
  "cells": [
    {
      "cell_type": "markdown",
      "metadata": {
        "id": "view-in-github",
        "colab_type": "text"
      },
      "source": [
        "<a href=\"https://colab.research.google.com/github/MadhurMohare/BinarySort/blob/main/Binary_Search.ipynb\" target=\"_parent\"><img src=\"https://colab.research.google.com/assets/colab-badge.svg\" alt=\"Open In Colab\"/></a>"
      ]
    },
    {
      "cell_type": "markdown",
      "source": [
        "Binary Search"
      ],
      "metadata": {
        "id": "c0Ye8NAPxboz"
      }
    },
    {
      "cell_type": "code",
      "source": [
        "def binarySearch(L,N):\n",
        "  L.sort()\n",
        "  mid = len(L) // 2\n",
        "  if len(L) == 0:\n",
        "    return False\n",
        "  elif len(L) == 1:\n",
        "    if L[0] == N:\n",
        "      return True\n",
        "    else:\n",
        "      return False\n",
        "  elif N <= L[mid]:\n",
        "    if N == L[mid]:\n",
        "      return True\n",
        "    return binarySearch(L[:mid],N)\n",
        "  elif N > L[mid]:\n",
        "    return binarySearch(L[mid+1:],N)\n",
        "  else:\n",
        "    return False"
      ],
      "metadata": {
        "id": "rU9BLTFRxeuY"
      },
      "execution_count": 38,
      "outputs": []
    },
    {
      "cell_type": "code",
      "source": [
        "print(binarySearch([2,5,7,8,11,12],9))"
      ],
      "metadata": {
        "colab": {
          "base_uri": "https://localhost:8080/"
        },
        "id": "Fb8ZTe0eyGMP",
        "outputId": "fc3d2168-52a1-427c-9d74-6f8cb9c1d6ba"
      },
      "execution_count": 43,
      "outputs": [
        {
          "output_type": "stream",
          "name": "stdout",
          "text": [
            "False\n"
          ]
        }
      ]
    }
  ]
}